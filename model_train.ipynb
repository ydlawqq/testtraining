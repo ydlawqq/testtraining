{
  "cells": [
    {
      "cell_type": "code",
      "execution_count": 1,
      "id": "979a6abd-3d54-4c0b-8cb6-cdde7f2d78f7",
      "metadata": {
        "id": "979a6abd-3d54-4c0b-8cb6-cdde7f2d78f7"
      },
      "outputs": [],
      "source": [
        "from datasets import load_dataset, DatasetDict"
      ]
    },
    {
      "cell_type": "code",
      "execution_count": 2,
      "id": "36d4b261-077c-49c4-b4cd-b12dfb071697",
      "metadata": {
        "id": "36d4b261-077c-49c4-b4cd-b12dfb071697"
      },
      "outputs": [],
      "source": [
        "import unicodedata"
      ]
    },
    {
      "cell_type": "code",
      "execution_count": 3,
      "id": "8ba20006-90c9-49db-95ec-fe1f15b3c190",
      "metadata": {
        "id": "8ba20006-90c9-49db-95ec-fe1f15b3c190"
      },
      "outputs": [],
      "source": [
        "import html"
      ]
    },
    {
      "cell_type": "code",
      "execution_count": 4,
      "id": "6d84a110-a6c4-42a4-a0cd-3eecf92a055e",
      "metadata": {
        "id": "6d84a110-a6c4-42a4-a0cd-3eecf92a055e"
      },
      "outputs": [],
      "source": [
        "from transformers import AutoTokenizer, AutoModelForSequenceClassification, Trainer, TrainingArguments, DataCollatorWithPadding"
      ]
    },
    {
      "cell_type": "code",
      "execution_count": 5,
      "id": "2fba2a2e-568e-4512-aef6-fc70e7a75f5d",
      "metadata": {
        "colab": {
          "base_uri": "https://localhost:8080/"
        },
        "id": "2fba2a2e-568e-4512-aef6-fc70e7a75f5d",
        "outputId": "52be9041-f6ae-4728-935f-402009d7481e"
      },
      "outputs": [
        {
          "output_type": "stream",
          "name": "stderr",
          "text": [
            "/usr/local/lib/python3.12/dist-packages/huggingface_hub/utils/_auth.py:94: UserWarning: \n",
            "The secret `HF_TOKEN` does not exist in your Colab secrets.\n",
            "To authenticate with the Hugging Face Hub, create a token in your settings tab (https://huggingface.co/settings/tokens), set it as secret in your Google Colab and restart your session.\n",
            "You will be able to reuse this secret in all of your notebooks.\n",
            "Please note that authentication is recommended but still optional to access public models or datasets.\n",
            "  warnings.warn(\n"
          ]
        }
      ],
      "source": [
        "ds = load_dataset(\"SetFit/bbc-news\")\n"
      ]
    },
    {
      "cell_type": "code",
      "execution_count": 6,
      "id": "3f8fc33a-06a3-42ab-a31d-d43c9d024008",
      "metadata": {
        "id": "3f8fc33a-06a3-42ab-a31d-d43c9d024008"
      },
      "outputs": [],
      "source": [
        "ds.reset_format()"
      ]
    },
    {
      "cell_type": "code",
      "execution_count": 7,
      "id": "c2e756e4-8ae6-417f-ab25-7eba587c8b88",
      "metadata": {
        "colab": {
          "base_uri": "https://localhost:8080/",
          "height": 104
        },
        "id": "c2e756e4-8ae6-417f-ab25-7eba587c8b88",
        "outputId": "b64e5284-3b47-4ec9-f846-cc1bdb611311"
      },
      "outputs": [
        {
          "output_type": "execute_result",
          "data": {
            "text/plain": [
              "'prince crowned  top music earner  prince earned more than any other pop star in 2004  beating artists such madonna and elton john in us magazine rolling stone s annual list.  the singer banked $56.5m (£30.4m) from concerts  album and publishing sales with his musicology tour and album. he kept madonna in second place  as she earned $54.9m (£29.5m) while embarking on her global re-invention tour. veterans simon and garfunkel were in 10th place  their comeback tour helping them earn $24.9m (£13.4m) last year.   prince returned to centre stage after a decade in the commercial wilderness   the magazine reported. the singer s 2004 tour took $90.3m (£48.5m) in ticket sales and he sold 1.9 million copies of his latest album musicology.  although she grossed more than prince last year  madonna remained in second place because of the  monumental  production costs of her tour. heavy metal band metallica s madly in anger with the world tour helped push their 2004 earnings up to $43.1m (£23.1m). they were ahead of sir elton john  who took fourth place and almost $42.7m (£23m) from performances including a debut on the las vegas strip. other seasoned performers in the list included rod stewart  whose sold-out shows and third volume of the great american songbook covers album helped net him £35m (£19m). the highest-ranking rap act in the list was 50 cent  who at number 19 took $24m (£13m) to the bank.'"
            ],
            "application/vnd.google.colaboratory.intrinsic+json": {
              "type": "string"
            }
          },
          "metadata": {},
          "execution_count": 7
        }
      ],
      "source": [
        "ds['train'].shuffle(seed=42)['text'][0]"
      ]
    },
    {
      "cell_type": "code",
      "execution_count": 8,
      "id": "8203527c-b39b-44fe-9e3d-e4491aecc2c7",
      "metadata": {
        "id": "8203527c-b39b-44fe-9e3d-e4491aecc2c7"
      },
      "outputs": [],
      "source": [
        "def space_delitter(x):\n",
        "    return {'text': [\" \".join(html.unescape(i).split()).lower() for i in x['text']]}"
      ]
    },
    {
      "cell_type": "code",
      "execution_count": 9,
      "id": "e16c1d28-4513-48ad-8b87-34d85e334fda",
      "metadata": {
        "id": "e16c1d28-4513-48ad-8b87-34d85e334fda"
      },
      "outputs": [],
      "source": [
        "ds = ds.map(space_delitter, batched=True)"
      ]
    },
    {
      "cell_type": "code",
      "execution_count": 10,
      "id": "fa546652-d983-4f0a-87a2-43d91a178c31",
      "metadata": {
        "colab": {
          "base_uri": "https://localhost:8080/",
          "height": 104
        },
        "id": "fa546652-d983-4f0a-87a2-43d91a178c31",
        "outputId": "22ef850e-a2c6-418d-b113-bfd535d4e1ee"
      },
      "outputs": [
        {
          "output_type": "execute_result",
          "data": {
            "text/plain": [
              "'wales want rugby league training wales could follow england s lead by training with a rugby league club. england have already had a three-day session with leeds rhinos and wales are thought to be interested in a similar clinic with rivals st helens. saints coach ian millward has given his approval but if it does happen it is unlikely to be this season. saints have a week s training in portugal next week while wales will play england in the opening six nations match on 5 february. we have had an approach from wales confirmed a saints spokesman. it s in the very early stages but it is something we are giving serious consideration to. st helens who are proud of their welsh connections are obvious partners for the welsh rugby union despite a spat in 2001 over the collapse of kieron cunningham s proposed £500 000 move to union side swansea. a similar cross-code deal that took iestyn harris from leeds to cardiff in 2001 did go through before the talented stand-off returned to the 13-man code with bradford bulls. kel coslett who famously moved from wales to league in the 1960s is currently saints football manager while clive griffiths - wales defensive coach - is a former st helens player and is thought to be the man behind the latest initiative. scott gibbs the former wales and lions centre played for st helens from 1994-96 and was in the challenge cup-winning team at wembley in 1996.'"
            ],
            "application/vnd.google.colaboratory.intrinsic+json": {
              "type": "string"
            }
          },
          "metadata": {},
          "execution_count": 10
        }
      ],
      "source": [
        "ds['train']['text'][0]"
      ]
    },
    {
      "cell_type": "code",
      "execution_count": 11,
      "id": "a49d8c1b-af00-4494-a73e-ec131ed0d2e4",
      "metadata": {
        "id": "a49d8c1b-af00-4494-a73e-ec131ed0d2e4"
      },
      "outputs": [],
      "source": [
        "tokenizer = AutoTokenizer.from_pretrained('bert-base-uncased')"
      ]
    },
    {
      "cell_type": "code",
      "execution_count": 12,
      "id": "e2a0ac4b-7b63-456e-94a1-aee4f87d3dee",
      "metadata": {
        "id": "e2a0ac4b-7b63-456e-94a1-aee4f87d3dee"
      },
      "outputs": [],
      "source": [
        "import string"
      ]
    },
    {
      "cell_type": "code",
      "execution_count": 13,
      "id": "fb85df72-5318-4ab6-88cd-6db73935731f",
      "metadata": {
        "id": "fb85df72-5318-4ab6-88cd-6db73935731f"
      },
      "outputs": [],
      "source": [
        "simbols = list(string.ascii_lowercase) + ['!', ',', '\"', '.', '?', '-', '+', '=', '(', ')', '&', ' ']\n"
      ]
    },
    {
      "cell_type": "code",
      "execution_count": 14,
      "id": "d90dd920-2af9-472b-952d-6b8bd6a2ebd7",
      "metadata": {
        "id": "d90dd920-2af9-472b-952d-6b8bd6a2ebd7"
      },
      "outputs": [],
      "source": [
        "itg = []\n",
        "for i in ''.join(ds['train']['text']):\n",
        "    if i not in simbols+itg:\n",
        "        itg.append(i)"
      ]
    },
    {
      "cell_type": "code",
      "execution_count": 15,
      "id": "66238c96-c350-4535-8ef8-7fafffcfd2f7",
      "metadata": {
        "colab": {
          "base_uri": "https://localhost:8080/"
        },
        "id": "66238c96-c350-4535-8ef8-7fafffcfd2f7",
        "outputId": "5f7288d0-0014-4eb9-f2a8-7962f64a2543"
      },
      "outputs": [
        {
          "output_type": "execute_result",
          "data": {
            "text/plain": [
              "['5',\n",
              " '2',\n",
              " '0',\n",
              " '1',\n",
              " '£',\n",
              " '3',\n",
              " '9',\n",
              " '6',\n",
              " '4',\n",
              " '$',\n",
              " '7',\n",
              " '8',\n",
              " '%',\n",
              " '[',\n",
              " ']',\n",
              " ':',\n",
              " 'é',\n",
              " '/',\n",
              " ';',\n",
              " '<',\n",
              " '*',\n",
              " 'ã',\n",
              " 'ô',\n",
              " '>',\n",
              " 'ó']"
            ]
          },
          "metadata": {},
          "execution_count": 15
        }
      ],
      "source": [
        "itg"
      ]
    },
    {
      "cell_type": "code",
      "execution_count": 16,
      "id": "ca5563ad-6b65-4d81-afd3-1202f116df62",
      "metadata": {
        "id": "ca5563ad-6b65-4d81-afd3-1202f116df62"
      },
      "outputs": [],
      "source": [
        "ds = ds.map(lambda x: {'text': unicodedata.normalize(\"NFC\", x['text'])})"
      ]
    },
    {
      "cell_type": "code",
      "execution_count": 17,
      "id": "e2d26215-97ba-4b67-879e-d31b598f48c6",
      "metadata": {
        "colab": {
          "base_uri": "https://localhost:8080/",
          "height": 104
        },
        "id": "e2d26215-97ba-4b67-879e-d31b598f48c6",
        "outputId": "cddd7ca7-7ca7-4229-a964-44787723fe8d"
      },
      "outputs": [
        {
          "output_type": "execute_result",
          "data": {
            "text/plain": [
              "'wales want rugby league training wales could follow england s lead by training with a rugby league club. england have already had a three-day session with leeds rhinos and wales are thought to be interested in a similar clinic with rivals st helens. saints coach ian millward has given his approval but if it does happen it is unlikely to be this season. saints have a week s training in portugal next week while wales will play england in the opening six nations match on 5 february. we have had an approach from wales confirmed a saints spokesman. it s in the very early stages but it is something we are giving serious consideration to. st helens who are proud of their welsh connections are obvious partners for the welsh rugby union despite a spat in 2001 over the collapse of kieron cunningham s proposed £500 000 move to union side swansea. a similar cross-code deal that took iestyn harris from leeds to cardiff in 2001 did go through before the talented stand-off returned to the 13-man code with bradford bulls. kel coslett who famously moved from wales to league in the 1960s is currently saints football manager while clive griffiths - wales defensive coach - is a former st helens player and is thought to be the man behind the latest initiative. scott gibbs the former wales and lions centre played for st helens from 1994-96 and was in the challenge cup-winning team at wembley in 1996.'"
            ],
            "application/vnd.google.colaboratory.intrinsic+json": {
              "type": "string"
            }
          },
          "metadata": {},
          "execution_count": 17
        }
      ],
      "source": [
        "ds['train']['text'][0]"
      ]
    },
    {
      "cell_type": "code",
      "execution_count": 18,
      "id": "fb44da0f-4bd8-490e-9212-c981bc309e30",
      "metadata": {
        "colab": {
          "base_uri": "https://localhost:8080/",
          "height": 34
        },
        "id": "fb44da0f-4bd8-490e-9212-c981bc309e30",
        "outputId": "ac6581cf-7f27-42e3-e13e-f513bd936d06"
      },
      "outputs": [
        {
          "output_type": "execute_result",
          "data": {
            "text/plain": [
              "'é'"
            ],
            "application/vnd.google.colaboratory.intrinsic+json": {
              "type": "string"
            }
          },
          "metadata": {},
          "execution_count": 18
        }
      ],
      "source": [
        "unicodedata.normalize(\"NFKD\", 'é')"
      ]
    },
    {
      "cell_type": "code",
      "execution_count": 19,
      "id": "5c901246-bccb-4551-944e-4ad08f4ab802",
      "metadata": {
        "id": "5c901246-bccb-4551-944e-4ad08f4ab802"
      },
      "outputs": [],
      "source": [
        "def tokenize_func(example):\n",
        "    return {\n",
        "        'tokenized_text':\n",
        "        tokenizer(example['text'], truncation=True, max_length=512, padding=True)\n",
        "    }\n",
        ""
      ]
    },
    {
      "cell_type": "code",
      "execution_count": 20,
      "id": "9ff2291b-db45-460a-a1bd-914273ead445",
      "metadata": {
        "colab": {
          "base_uri": "https://localhost:8080/",
          "height": 49,
          "referenced_widgets": [
            "ae3a8175a17f4256a66ec82771caf7e8",
            "e6ef2801823b48c8b644b701786a6da0",
            "8a0385b39f38425faacb02924b3be25b",
            "8e90e7ed4e7545bdb23d53a36406d007",
            "63e5ab79aa124ae2b349cbf3af8f2864",
            "c0d6de94ff4e4a57814867c87992d542",
            "a76a77b14c8b44c98b14c76aa8e985b0",
            "f1fb7bd2edbb4af0a40c3d219fa0c623",
            "ad5adb8222c444bf9310b1f51db2533f",
            "c9a5596b42f34a6792427f2bd5469b9b",
            "0fa6fe9e6fa64137bd0ef912f043865d"
          ]
        },
        "id": "9ff2291b-db45-460a-a1bd-914273ead445",
        "outputId": "89d68cd5-afcb-4d78-a1be-5ea7395a17ac"
      },
      "outputs": [
        {
          "output_type": "display_data",
          "data": {
            "text/plain": [
              "Map:   0%|          | 0/1000 [00:00<?, ? examples/s]"
            ],
            "application/vnd.jupyter.widget-view+json": {
              "version_major": 2,
              "version_minor": 0,
              "model_id": "ae3a8175a17f4256a66ec82771caf7e8"
            }
          },
          "metadata": {}
        }
      ],
      "source": [
        "ds = ds.map(tokenize_func)"
      ]
    },
    {
      "cell_type": "code",
      "execution_count": 21,
      "id": "27f16da3-703e-4fe2-9a62-6d946cb4bbd7",
      "metadata": {
        "colab": {
          "base_uri": "https://localhost:8080/",
          "height": 104
        },
        "id": "27f16da3-703e-4fe2-9a62-6d946cb4bbd7",
        "outputId": "d8471449-42b8-4178-9fb2-7ea88aee14b5"
      },
      "outputs": [
        {
          "output_type": "execute_result",
          "data": {
            "text/plain": [
              "'[CLS] wales want rugby league training wales could follow england s lead by training with a rugby league club. england have already had a three - day session with leeds rhinos and wales are thought to be interested in a similar clinic with rivals st helens. saints coach ian millward has given his approval but if it does happen it is unlikely to be this season. saints have a week s training in portugal next week while wales will play england in the opening six nations match on 5 february. we have had an approach from wales confirmed a saints spokesman. it s in the very early stages but it is something we are giving serious consideration to. st helens who are proud of their welsh connections are obvious partners for the welsh rugby union despite a spat in 2001 over the collapse of kieron cunningham s proposed £500 000 move to union side swansea. a similar cross - code deal that took iestyn harris from leeds to cardiff in 2001 did go through before the talented stand - off returned to the 13 - man code with bradford bulls. kel coslett who famously moved from wales to league in the 1960s is currently saints football manager while clive griffiths - wales defensive coach - is a former st helens player and is thought to be the man behind the latest initiative. scott gibbs the former wales and lions centre played for st helens from 1994 - 96 and was in the challenge cup - winning team at wembley in 1996. [SEP]'"
            ],
            "application/vnd.google.colaboratory.intrinsic+json": {
              "type": "string"
            }
          },
          "metadata": {},
          "execution_count": 21
        }
      ],
      "source": [
        "tokens = ds['train']['tokenized_text'][0]\n",
        "tokenizer.decode(tokens['input_ids'])"
      ]
    },
    {
      "cell_type": "code",
      "execution_count": 22,
      "id": "24482640-6999-4ae8-bad8-6ca91559de31",
      "metadata": {
        "colab": {
          "base_uri": "https://localhost:8080/"
        },
        "id": "24482640-6999-4ae8-bad8-6ca91559de31",
        "outputId": "6a4ce1d8-9f7f-49b6-90cd-ba7e8b9664d4"
      },
      "outputs": [
        {
          "output_type": "stream",
          "name": "stderr",
          "text": [
            "Some weights of BertForSequenceClassification were not initialized from the model checkpoint at bert-base-uncased and are newly initialized: ['classifier.bias', 'classifier.weight']\n",
            "You should probably TRAIN this model on a down-stream task to be able to use it for predictions and inference.\n"
          ]
        }
      ],
      "source": [
        "model = AutoModelForSequenceClassification.from_pretrained('bert-base-uncased', num_labels=5)"
      ]
    },
    {
      "cell_type": "code",
      "execution_count": 23,
      "id": "8073535a-883e-44c9-8572-3b3ef899bad5",
      "metadata": {
        "colab": {
          "base_uri": "https://localhost:8080/"
        },
        "id": "8073535a-883e-44c9-8572-3b3ef899bad5",
        "outputId": "621a2731-9632-418c-9ef2-56cae8e4423f"
      },
      "outputs": [
        {
          "output_type": "stream",
          "name": "stdout",
          "text": [
            "Dataset labels has no encoded names\n"
          ]
        }
      ],
      "source": [
        "try:\n",
        "    ds['train']['label'].features.names\n",
        "except AttributeError:\n",
        "    print('Dataset labels has no encoded names')\n",
        ""
      ]
    },
    {
      "cell_type": "code",
      "execution_count": 24,
      "id": "11cbcd35-2dbe-43a8-b68f-cef39eac36aa",
      "metadata": {
        "id": "11cbcd35-2dbe-43a8-b68f-cef39eac36aa"
      },
      "outputs": [],
      "source": [
        "ds.set_format('pandas')"
      ]
    },
    {
      "cell_type": "code",
      "execution_count": 25,
      "id": "83971b09-571d-4c6c-b96e-69e0a07585fa",
      "metadata": {
        "id": "83971b09-571d-4c6c-b96e-69e0a07585fa"
      },
      "outputs": [],
      "source": [
        "labels = ds['train']['label'].unique()"
      ]
    },
    {
      "cell_type": "code",
      "execution_count": 26,
      "id": "cf57c83a-2728-4868-bd6c-7887d0488d36",
      "metadata": {
        "colab": {
          "base_uri": "https://localhost:8080/"
        },
        "id": "cf57c83a-2728-4868-bd6c-7887d0488d36",
        "outputId": "c59830b4-0418-4632-98c2-7523d8740171"
      },
      "outputs": [
        {
          "output_type": "execute_result",
          "data": {
            "text/plain": [
              "array(['sport', 'business', 'entertainment', 'tech', 'politics'],\n",
              "      dtype=object)"
            ]
          },
          "metadata": {},
          "execution_count": 26
        }
      ],
      "source": [
        "labels_encode = ds['train']['label_text'].unique()\n",
        "labels_encode"
      ]
    },
    {
      "cell_type": "code",
      "execution_count": 27,
      "id": "8bc6a74b-361c-44c8-ba2d-ee03704c5982",
      "metadata": {
        "id": "8bc6a74b-361c-44c8-ba2d-ee03704c5982"
      },
      "outputs": [],
      "source": [
        "label_to_category = dict(zip(labels, labels_encode))"
      ]
    },
    {
      "cell_type": "code",
      "execution_count": 28,
      "id": "0b3226e2-3f4b-4532-931a-086d374c72d6",
      "metadata": {
        "colab": {
          "base_uri": "https://localhost:8080/"
        },
        "id": "0b3226e2-3f4b-4532-931a-086d374c72d6",
        "outputId": "eb13ba7a-2f47-4575-cbee-68bb453c3c59"
      },
      "outputs": [
        {
          "output_type": "execute_result",
          "data": {
            "text/plain": [
              "{np.int64(2): 'sport',\n",
              " np.int64(1): 'business',\n",
              " np.int64(3): 'entertainment',\n",
              " np.int64(0): 'tech',\n",
              " np.int64(4): 'politics'}"
            ]
          },
          "metadata": {},
          "execution_count": 28
        }
      ],
      "source": [
        "label_to_category"
      ]
    },
    {
      "cell_type": "code",
      "execution_count": 29,
      "id": "81305f07-c968-422e-a041-748ed1e92ca4",
      "metadata": {
        "id": "81305f07-c968-422e-a041-748ed1e92ca4"
      },
      "outputs": [],
      "source": [
        "ds.reset_format()"
      ]
    },
    {
      "cell_type": "code",
      "execution_count": 30,
      "id": "dcabfa86-76b5-43dc-bc4c-eb1e988540b8",
      "metadata": {
        "colab": {
          "base_uri": "https://localhost:8080/",
          "height": 49,
          "referenced_widgets": [
            "08e41b7dd8e14201b407cd7fd0d48cd6",
            "52e47ea7a93a447c8ed895846d5e5a92",
            "af3064ac6ba74e14a1952fe21fe1109a",
            "804569326d3244a6bb838d2d661ce2f1",
            "88be9e4809a54100a2132b672734726e",
            "7aaa662bb49944598989496cec205b39",
            "131d961e23a74f0b90dcc613a1f9c43f",
            "d3a131583bf54420b4faadde1ffee93b",
            "35f40cf0f8eb4a2bb9cdd27da7583c28",
            "cabdfcb5338d4ac0be8f34647b89dbb4",
            "044cbed999684fb79756e3cb8e84b550"
          ]
        },
        "id": "dcabfa86-76b5-43dc-bc4c-eb1e988540b8",
        "outputId": "0de9ef07-8569-48c9-86d6-9059b2037186"
      },
      "outputs": [
        {
          "output_type": "display_data",
          "data": {
            "text/plain": [
              "Map:   0%|          | 0/1000 [00:00<?, ? examples/s]"
            ],
            "application/vnd.jupyter.widget-view+json": {
              "version_major": 2,
              "version_minor": 0,
              "model_id": "08e41b7dd8e14201b407cd7fd0d48cd6"
            }
          },
          "metadata": {}
        }
      ],
      "source": [
        "def extract_tokens(example):\n",
        "    example['input_ids'] = example['tokenized_text']['input_ids']\n",
        "    example['attention_mask'] = example['tokenized_text']['attention_mask']\n",
        "    return example\n",
        "\n",
        "ds = ds.map(extract_tokens, remove_columns=['text','label_text', 'tokenized_text'])\n"
      ]
    },
    {
      "cell_type": "code",
      "execution_count": 31,
      "id": "5452f071-6262-4347-98d5-7ccbfd99c704",
      "metadata": {
        "colab": {
          "base_uri": "https://localhost:8080/"
        },
        "id": "5452f071-6262-4347-98d5-7ccbfd99c704",
        "outputId": "54c4139a-116e-46aa-ab8e-aa3563736463"
      },
      "outputs": [
        {
          "output_type": "execute_result",
          "data": {
            "text/plain": [
              "DatasetDict({\n",
              "    train: Dataset({\n",
              "        features: ['label', 'input_ids', 'attention_mask'],\n",
              "        num_rows: 1225\n",
              "    })\n",
              "    test: Dataset({\n",
              "        features: ['label', 'input_ids', 'attention_mask'],\n",
              "        num_rows: 1000\n",
              "    })\n",
              "})"
            ]
          },
          "metadata": {},
          "execution_count": 31
        }
      ],
      "source": [
        "ds"
      ]
    },
    {
      "cell_type": "code",
      "execution_count": 32,
      "id": "f4e43bc0-e65d-4c09-8233-2b35fe66a26a",
      "metadata": {
        "id": "f4e43bc0-e65d-4c09-8233-2b35fe66a26a"
      },
      "outputs": [],
      "source": [
        "args = TrainingArguments(\n",
        "    output_dir ='./model',\n",
        "    eval_strategy='epoch',\n",
        "    learning_rate=2e-5,\n",
        "    per_device_train_batch_size=16,\n",
        "    per_device_eval_batch_size=16,\n",
        "    num_train_epochs=1,\n",
        "    weight_decay=0.01,\n",
        "    report_to=[]\n",
        ")\n",
        "\n"
      ]
    },
    {
      "cell_type": "code",
      "execution_count": 33,
      "id": "b9fbcfc6-e2e9-480c-a3bc-b0007a5c035d",
      "metadata": {
        "id": "b9fbcfc6-e2e9-480c-a3bc-b0007a5c035d"
      },
      "outputs": [],
      "source": [
        "from sklearn.metrics import accuracy_score\n",
        "import numpy as np"
      ]
    },
    {
      "cell_type": "code",
      "execution_count": 34,
      "id": "73c4f38f-953d-4851-abcd-e65e9c647748",
      "metadata": {
        "id": "73c4f38f-953d-4851-abcd-e65e9c647748"
      },
      "outputs": [],
      "source": [
        "def compute_metrics(pred):\n",
        "    logits, labels = pred\n",
        "    preds = np.argmax(logits, axis=-1)\n",
        "    return {\n",
        "        \"accuracy\": accuracy_score(labels, preds)\n",
        "\n",
        "\n",
        "\n",
        "    }\n",
        "\n",
        "\n",
        "\n",
        "\n",
        ""
      ]
    },
    {
      "cell_type": "code",
      "execution_count": 35,
      "id": "5e542c98-4bd8-4600-9860-c4f0293204a3",
      "metadata": {
        "id": "5e542c98-4bd8-4600-9860-c4f0293204a3"
      },
      "outputs": [],
      "source": [
        "\n",
        "data_collator = DataCollatorWithPadding(\n",
        "    tokenizer=tokenizer,\n",
        "    padding='max_length',\n",
        "    max_length=512\n",
        ")"
      ]
    },
    {
      "cell_type": "code",
      "execution_count": 36,
      "id": "77e6f970-8226-4152-b7fd-ce2b7955fa84",
      "metadata": {
        "colab": {
          "base_uri": "https://localhost:8080/"
        },
        "id": "77e6f970-8226-4152-b7fd-ce2b7955fa84",
        "outputId": "19163ac5-624f-4566-867a-50fff3133629"
      },
      "outputs": [
        {
          "output_type": "stream",
          "name": "stderr",
          "text": [
            "/tmp/ipython-input-2355112571.py:1: FutureWarning: `tokenizer` is deprecated and will be removed in version 5.0.0 for `Trainer.__init__`. Use `processing_class` instead.\n",
            "  trainer = Trainer(\n"
          ]
        }
      ],
      "source": [
        "trainer = Trainer(\n",
        "    model=model,\n",
        "    args=args,\n",
        "    train_dataset=ds['train'],\n",
        "    eval_dataset=ds['train'],\n",
        "    tokenizer=tokenizer,\n",
        "    compute_metrics=compute_metrics,\n",
        "    data_collator=data_collator\n",
        "\n",
        ")"
      ]
    },
    {
      "cell_type": "code",
      "execution_count": 37,
      "id": "043f4e13-6322-4ab1-bfaa-b4949b89ede6",
      "metadata": {
        "colab": {
          "base_uri": "https://localhost:8080/",
          "height": 377
        },
        "id": "043f4e13-6322-4ab1-bfaa-b4949b89ede6",
        "outputId": "42a1a2de-a33b-48f7-bab2-5a71b3dd32b8"
      },
      "outputs": [
        {
          "output_type": "display_data",
          "data": {
            "text/plain": [
              "<IPython.core.display.HTML object>"
            ],
            "text/html": [
              "\n",
              "    <div>\n",
              "      \n",
              "      <progress value='107' max='231' style='width:300px; height:20px; vertical-align: middle;'></progress>\n",
              "      [107/231 02:57 < 03:30, 0.59 it/s, Epoch 1.38/3]\n",
              "    </div>\n",
              "    <table border=\"1\" class=\"dataframe\">\n",
              "  <thead>\n",
              " <tr style=\"text-align: left;\">\n",
              "      <th>Epoch</th>\n",
              "      <th>Training Loss</th>\n",
              "      <th>Validation Loss</th>\n",
              "      <th>Accuracy</th>\n",
              "    </tr>\n",
              "  </thead>\n",
              "  <tbody>\n",
              "    <tr>\n",
              "      <td>1</td>\n",
              "      <td>No log</td>\n",
              "      <td>0.209374</td>\n",
              "      <td>0.975510</td>\n",
              "    </tr>\n",
              "  </tbody>\n",
              "</table><p>"
            ]
          },
          "metadata": {}
        },
        {
          "output_type": "error",
          "ename": "KeyboardInterrupt",
          "evalue": "",
          "traceback": [
            "\u001b[0;31m---------------------------------------------------------------------------\u001b[0m",
            "\u001b[0;31mKeyboardInterrupt\u001b[0m                         Traceback (most recent call last)",
            "\u001b[0;32m/tmp/ipython-input-4032920361.py\u001b[0m in \u001b[0;36m<cell line: 0>\u001b[0;34m()\u001b[0m\n\u001b[0;32m----> 1\u001b[0;31m \u001b[0mtrainer\u001b[0m\u001b[0;34m.\u001b[0m\u001b[0mtrain\u001b[0m\u001b[0;34m(\u001b[0m\u001b[0;34m)\u001b[0m\u001b[0;34m\u001b[0m\u001b[0;34m\u001b[0m\u001b[0m\n\u001b[0m",
            "\u001b[0;32m/usr/local/lib/python3.12/dist-packages/transformers/trainer.py\u001b[0m in \u001b[0;36mtrain\u001b[0;34m(self, resume_from_checkpoint, trial, ignore_keys_for_eval, **kwargs)\u001b[0m\n\u001b[1;32m   2323\u001b[0m                 \u001b[0mhf_hub_utils\u001b[0m\u001b[0;34m.\u001b[0m\u001b[0menable_progress_bars\u001b[0m\u001b[0;34m(\u001b[0m\u001b[0;34m)\u001b[0m\u001b[0;34m\u001b[0m\u001b[0;34m\u001b[0m\u001b[0m\n\u001b[1;32m   2324\u001b[0m         \u001b[0;32melse\u001b[0m\u001b[0;34m:\u001b[0m\u001b[0;34m\u001b[0m\u001b[0;34m\u001b[0m\u001b[0m\n\u001b[0;32m-> 2325\u001b[0;31m             return inner_training_loop(\n\u001b[0m\u001b[1;32m   2326\u001b[0m                 \u001b[0margs\u001b[0m\u001b[0;34m=\u001b[0m\u001b[0margs\u001b[0m\u001b[0;34m,\u001b[0m\u001b[0;34m\u001b[0m\u001b[0;34m\u001b[0m\u001b[0m\n\u001b[1;32m   2327\u001b[0m                 \u001b[0mresume_from_checkpoint\u001b[0m\u001b[0;34m=\u001b[0m\u001b[0mresume_from_checkpoint\u001b[0m\u001b[0;34m,\u001b[0m\u001b[0;34m\u001b[0m\u001b[0;34m\u001b[0m\u001b[0m\n",
            "\u001b[0;32m/usr/local/lib/python3.12/dist-packages/transformers/trainer.py\u001b[0m in \u001b[0;36m_inner_training_loop\u001b[0;34m(self, batch_size, args, resume_from_checkpoint, trial, ignore_keys_for_eval)\u001b[0m\n\u001b[1;32m   2677\u001b[0m                         \u001b[0margs\u001b[0m\u001b[0;34m.\u001b[0m\u001b[0mlogging_nan_inf_filter\u001b[0m\u001b[0;34m\u001b[0m\u001b[0;34m\u001b[0m\u001b[0m\n\u001b[1;32m   2678\u001b[0m                         \u001b[0;32mand\u001b[0m \u001b[0;32mnot\u001b[0m \u001b[0mis_torch_xla_available\u001b[0m\u001b[0;34m(\u001b[0m\u001b[0;34m)\u001b[0m\u001b[0;34m\u001b[0m\u001b[0;34m\u001b[0m\u001b[0m\n\u001b[0;32m-> 2679\u001b[0;31m                         \u001b[0;32mand\u001b[0m \u001b[0;34m(\u001b[0m\u001b[0mtorch\u001b[0m\u001b[0;34m.\u001b[0m\u001b[0misnan\u001b[0m\u001b[0;34m(\u001b[0m\u001b[0mtr_loss_step\u001b[0m\u001b[0;34m)\u001b[0m \u001b[0;32mor\u001b[0m \u001b[0mtorch\u001b[0m\u001b[0;34m.\u001b[0m\u001b[0misinf\u001b[0m\u001b[0;34m(\u001b[0m\u001b[0mtr_loss_step\u001b[0m\u001b[0;34m)\u001b[0m\u001b[0;34m)\u001b[0m\u001b[0;34m\u001b[0m\u001b[0;34m\u001b[0m\u001b[0m\n\u001b[0m\u001b[1;32m   2680\u001b[0m                     ):\n\u001b[1;32m   2681\u001b[0m                         \u001b[0;31m# if loss is nan or inf simply add the average of previous logged losses\u001b[0m\u001b[0;34m\u001b[0m\u001b[0;34m\u001b[0m\u001b[0m\n",
            "\u001b[0;31mKeyboardInterrupt\u001b[0m: "
          ]
        }
      ],
      "source": [
        "trainer.train()"
      ]
    },
    {
      "cell_type": "code",
      "execution_count": 38,
      "id": "925fd78a-661b-4ae7-8e4e-cb209ae1a299",
      "metadata": {
        "colab": {
          "base_uri": "https://localhost:8080/",
          "height": 1000
        },
        "id": "925fd78a-661b-4ae7-8e4e-cb209ae1a299",
        "outputId": "4a3e087b-b5d3-438e-b5a3-750c6a13f435"
      },
      "outputs": [
        {
          "output_type": "display_data",
          "data": {
            "text/plain": [
              "<IPython.core.display.HTML object>"
            ],
            "text/html": [
              "\n",
              "    <div>\n",
              "      \n",
              "      <progress value='107' max='231' style='width:300px; height:20px; vertical-align: middle;'></progress>\n",
              "      [107/231 02:57 < 03:30, 0.59 it/s, Epoch 1.38/3]\n",
              "    </div>\n",
              "    <table border=\"1\" class=\"dataframe\">\n",
              "  <thead>\n",
              " <tr style=\"text-align: left;\">\n",
              "      <th>Epoch</th>\n",
              "      <th>Training Loss</th>\n",
              "      <th>Validation Loss</th>\n",
              "      <th>Accuracy</th>\n",
              "    </tr>\n",
              "  </thead>\n",
              "  <tbody>\n",
              "    <tr>\n",
              "      <td>1</td>\n",
              "      <td>No log</td>\n",
              "      <td>0.209374</td>\n",
              "      <td>0.975510</td>\n",
              "    </tr>\n",
              "  </tbody>\n",
              "</table><p>\n",
              "    <div>\n",
              "      \n",
              "      <progress value='63' max='63' style='width:300px; height:20px; vertical-align: middle;'></progress>\n",
              "      [63/63 00:27]\n",
              "    </div>\n",
              "    "
            ]
          },
          "metadata": {}
        },
        {
          "output_type": "execute_result",
          "data": {
            "text/plain": [
              "PredictionOutput(predictions=array([[-0.90396893, -1.1753968 , -0.6930947 ,  2.923195  , -1.2647469 ],\n",
              "       [-0.8878729 , -0.72531116,  3.6257668 , -0.7184649 , -0.45259207],\n",
              "       [-1.0117823 ,  3.508115  , -0.7791326 , -0.9882177 , -0.37977993],\n",
              "       ...,\n",
              "       [ 3.2771597 , -0.5951701 , -1.2391256 , -0.6775571 , -0.85896647],\n",
              "       [-0.72113466,  3.5888658 , -1.0355138 , -0.9015393 , -0.8486399 ],\n",
              "       [-0.5747604 , -0.49506333, -0.99390584, -1.1834903 ,  3.2129092 ]],\n",
              "      dtype=float32), label_ids=array([3, 2, 1, 4, 2, 1, 2, 1, 4, 4, 2, 3, 3, 0, 3, 3, 3, 2, 1, 3, 3, 4,\n",
              "       2, 1, 0, 1, 1, 1, 2, 3, 1, 2, 0, 3, 2, 2, 0, 0, 1, 3, 3, 4, 1, 4,\n",
              "       0, 0, 2, 0, 2, 1, 2, 1, 2, 0, 1, 2, 1, 3, 3, 1, 2, 3, 3, 4, 2, 4,\n",
              "       3, 2, 0, 3, 2, 4, 0, 2, 3, 0, 2, 1, 2, 4, 2, 3, 0, 3, 3, 0, 2, 0,\n",
              "       0, 1, 2, 2, 4, 0, 1, 1, 2, 1, 3, 0, 1, 3, 0, 0, 4, 2, 4, 0, 0, 1,\n",
              "       3, 2, 0, 0, 2, 1, 3, 0, 3, 0, 1, 3, 4, 4, 3, 1, 1, 0, 2, 2, 0, 0,\n",
              "       2, 2, 0, 1, 1, 1, 4, 3, 1, 4, 4, 0, 1, 3, 4, 2, 1, 1, 2, 0, 4, 4,\n",
              "       2, 0, 0, 2, 1, 0, 0, 4, 3, 0, 1, 1, 0, 4, 4, 1, 2, 2, 3, 3, 2, 3,\n",
              "       2, 1, 2, 1, 2, 1, 1, 2, 4, 2, 3, 4, 1, 4, 3, 3, 3, 3, 2, 1, 0, 0,\n",
              "       0, 2, 2, 2, 3, 0, 1, 1, 3, 1, 1, 3, 3, 2, 2, 1, 3, 1, 2, 2, 3, 3,\n",
              "       4, 2, 3, 2, 1, 2, 1, 2, 4, 2, 0, 2, 2, 2, 4, 4, 1, 2, 2, 0, 1, 2,\n",
              "       2, 1, 1, 1, 2, 0, 2, 0, 4, 1, 2, 1, 2, 1, 3, 3, 1, 1, 0, 1, 2, 1,\n",
              "       4, 3, 4, 3, 3, 3, 3, 2, 0, 2, 2, 4, 3, 1, 1, 1, 4, 2, 3, 2, 1, 2,\n",
              "       3, 0, 0, 2, 3, 2, 0, 1, 3, 4, 3, 3, 0, 2, 0, 2, 2, 2, 4, 1, 0, 0,\n",
              "       2, 1, 4, 4, 1, 0, 3, 2, 4, 4, 3, 4, 2, 2, 0, 4, 4, 1, 3, 1, 1, 3,\n",
              "       1, 4, 3, 4, 0, 0, 4, 0, 0, 0, 1, 0, 1, 3, 4, 0, 1, 0, 4, 1, 2, 2,\n",
              "       4, 0, 2, 1, 4, 1, 0, 4, 3, 2, 1, 0, 0, 2, 1, 4, 2, 1, 3, 3, 4, 4,\n",
              "       3, 4, 1, 1, 2, 3, 2, 3, 3, 3, 1, 4, 1, 3, 2, 3, 3, 0, 1, 2, 4, 0,\n",
              "       0, 3, 0, 3, 3, 4, 1, 2, 0, 3, 3, 3, 1, 1, 3, 1, 2, 2, 3, 4, 4, 3,\n",
              "       3, 4, 1, 1, 2, 4, 0, 3, 4, 4, 2, 2, 4, 1, 3, 4, 3, 0, 0, 2, 1, 0,\n",
              "       0, 4, 1, 0, 1, 3, 0, 2, 1, 3, 2, 1, 4, 2, 2, 3, 2, 4, 3, 0, 4, 1,\n",
              "       1, 1, 2, 0, 3, 3, 0, 1, 4, 3, 1, 1, 2, 3, 1, 3, 3, 0, 1, 1, 0, 2,\n",
              "       1, 3, 2, 4, 1, 2, 2, 1, 3, 2, 3, 4, 4, 4, 2, 0, 1, 4, 3, 0, 0, 1,\n",
              "       1, 3, 0, 2, 2, 4, 3, 1, 4, 4, 0, 2, 1, 0, 2, 0, 4, 0, 2, 2, 0, 1,\n",
              "       0, 0, 1, 2, 1, 2, 3, 0, 2, 0, 1, 2, 1, 0, 1, 3, 1, 1, 1, 0, 0, 2,\n",
              "       1, 3, 2, 2, 3, 4, 0, 2, 4, 2, 0, 4, 0, 2, 2, 4, 2, 4, 2, 3, 4, 4,\n",
              "       0, 1, 2, 2, 2, 4, 2, 1, 2, 3, 0, 4, 3, 4, 2, 2, 2, 1, 4, 4, 3, 2,\n",
              "       2, 4, 4, 4, 3, 2, 3, 4, 1, 0, 4, 0, 4, 2, 1, 4, 1, 1, 4, 0, 1, 3,\n",
              "       0, 3, 3, 0, 3, 0, 3, 0, 0, 3, 4, 4, 0, 3, 2, 2, 1, 3, 1, 4, 2, 4,\n",
              "       4, 1, 1, 1, 0, 2, 4, 2, 4, 2, 3, 0, 2, 4, 4, 2, 1, 4, 0, 1, 1, 1,\n",
              "       0, 4, 1, 1, 4, 2, 4, 1, 1, 3, 0, 3, 0, 0, 1, 1, 0, 0, 0, 0, 2, 1,\n",
              "       2, 4, 1, 2, 2, 1, 1, 0, 2, 2, 0, 0, 1, 1, 2, 1, 2, 3, 0, 0, 2, 4,\n",
              "       4, 4, 1, 3, 2, 4, 0, 0, 2, 0, 3, 1, 3, 1, 4, 2, 1, 2, 0, 0, 1, 1,\n",
              "       3, 4, 3, 2, 1, 2, 1, 3, 1, 2, 2, 1, 1, 1, 1, 4, 0, 1, 2, 4, 3, 2,\n",
              "       2, 2, 0, 1, 4, 3, 1, 2, 1, 4, 0, 0, 2, 0, 0, 2, 4, 1, 2, 1, 3, 3,\n",
              "       2, 0, 4, 2, 0, 1, 3, 4, 2, 2, 1, 0, 4, 2, 3, 0, 3, 0, 2, 3, 1, 2,\n",
              "       2, 0, 2, 3, 4, 0, 2, 3, 3, 3, 4, 0, 3, 2, 1, 2, 1, 0, 4, 1, 3, 0,\n",
              "       4, 1, 2, 1, 3, 2, 1, 3, 1, 4, 0, 3, 0, 3, 4, 3, 1, 1, 0, 0, 2, 1,\n",
              "       2, 2, 1, 4, 0, 1, 3, 3, 4, 0, 0, 1, 2, 2, 4, 3, 4, 2, 2, 4, 4, 4,\n",
              "       2, 1, 2, 0, 0, 4, 4, 1, 2, 1, 4, 0, 0, 0, 4, 2, 2, 0, 0, 4, 2, 2,\n",
              "       0, 3, 2, 4, 1, 2, 3, 3, 2, 1, 0, 4, 1, 2, 0, 1, 4, 0, 0, 0, 1, 2,\n",
              "       4, 4, 4, 4, 4, 3, 0, 2, 1, 1, 2, 4, 0, 4, 4, 2, 0, 3, 3, 4, 1, 3,\n",
              "       1, 1, 3, 4, 4, 2, 0, 2, 1, 3, 1, 2, 4, 2, 4, 1, 2, 3, 1, 1, 1, 3,\n",
              "       0, 3, 4, 4, 1, 3, 4, 3, 2, 3, 4, 1, 0, 2, 4, 2, 1, 0, 3, 1, 2, 4,\n",
              "       4, 2, 3, 0, 0, 1, 1, 1, 0, 1, 1, 2, 2, 2, 4, 4, 2, 0, 2, 2, 0, 0,\n",
              "       3, 2, 1, 4, 0, 0, 2, 0, 1, 4]), metrics={'test_loss': 0.12085185199975967, 'test_accuracy': 0.975, 'test_runtime': 28.1097, 'test_samples_per_second': 35.575, 'test_steps_per_second': 2.241})"
            ]
          },
          "metadata": {},
          "execution_count": 38
        }
      ],
      "source": [
        "trainer.predict(ds['test'])"
      ]
    },
    {
      "cell_type": "code",
      "source": [],
      "metadata": {
        "id": "GwoBXdrMz6fI"
      },
      "id": "GwoBXdrMz6fI",
      "execution_count": null,
      "outputs": []
    }
  ],
  "metadata": {
    "kernelspec": {
      "display_name": "forUN",
      "language": "python",
      "name": "forun"
    },
    "language_info": {
      "codemirror_mode": {
        "name": "ipython",
        "version": 3
      },
      "file_extension": ".py",
      "mimetype": "text/x-python",
      "name": "python",
      "nbconvert_exporter": "python",
      "pygments_lexer": "ipython3",
      "version": "3.13.7"
    },
    "colab": {
      "provenance": [],
      "gpuType": "T4"
    },
    "accelerator": "GPU",
    "widgets": {
      "application/vnd.jupyter.widget-state+json": {
        "ae3a8175a17f4256a66ec82771caf7e8": {
          "model_module": "@jupyter-widgets/controls",
          "model_name": "HBoxModel",
          "model_module_version": "1.5.0",
          "state": {
            "_dom_classes": [],
            "_model_module": "@jupyter-widgets/controls",
            "_model_module_version": "1.5.0",
            "_model_name": "HBoxModel",
            "_view_count": null,
            "_view_module": "@jupyter-widgets/controls",
            "_view_module_version": "1.5.0",
            "_view_name": "HBoxView",
            "box_style": "",
            "children": [
              "IPY_MODEL_e6ef2801823b48c8b644b701786a6da0",
              "IPY_MODEL_8a0385b39f38425faacb02924b3be25b",
              "IPY_MODEL_8e90e7ed4e7545bdb23d53a36406d007"
            ],
            "layout": "IPY_MODEL_63e5ab79aa124ae2b349cbf3af8f2864"
          }
        },
        "e6ef2801823b48c8b644b701786a6da0": {
          "model_module": "@jupyter-widgets/controls",
          "model_name": "HTMLModel",
          "model_module_version": "1.5.0",
          "state": {
            "_dom_classes": [],
            "_model_module": "@jupyter-widgets/controls",
            "_model_module_version": "1.5.0",
            "_model_name": "HTMLModel",
            "_view_count": null,
            "_view_module": "@jupyter-widgets/controls",
            "_view_module_version": "1.5.0",
            "_view_name": "HTMLView",
            "description": "",
            "description_tooltip": null,
            "layout": "IPY_MODEL_c0d6de94ff4e4a57814867c87992d542",
            "placeholder": "​",
            "style": "IPY_MODEL_a76a77b14c8b44c98b14c76aa8e985b0",
            "value": "Map: 100%"
          }
        },
        "8a0385b39f38425faacb02924b3be25b": {
          "model_module": "@jupyter-widgets/controls",
          "model_name": "FloatProgressModel",
          "model_module_version": "1.5.0",
          "state": {
            "_dom_classes": [],
            "_model_module": "@jupyter-widgets/controls",
            "_model_module_version": "1.5.0",
            "_model_name": "FloatProgressModel",
            "_view_count": null,
            "_view_module": "@jupyter-widgets/controls",
            "_view_module_version": "1.5.0",
            "_view_name": "ProgressView",
            "bar_style": "success",
            "description": "",
            "description_tooltip": null,
            "layout": "IPY_MODEL_f1fb7bd2edbb4af0a40c3d219fa0c623",
            "max": 1000,
            "min": 0,
            "orientation": "horizontal",
            "style": "IPY_MODEL_ad5adb8222c444bf9310b1f51db2533f",
            "value": 1000
          }
        },
        "8e90e7ed4e7545bdb23d53a36406d007": {
          "model_module": "@jupyter-widgets/controls",
          "model_name": "HTMLModel",
          "model_module_version": "1.5.0",
          "state": {
            "_dom_classes": [],
            "_model_module": "@jupyter-widgets/controls",
            "_model_module_version": "1.5.0",
            "_model_name": "HTMLModel",
            "_view_count": null,
            "_view_module": "@jupyter-widgets/controls",
            "_view_module_version": "1.5.0",
            "_view_name": "HTMLView",
            "description": "",
            "description_tooltip": null,
            "layout": "IPY_MODEL_c9a5596b42f34a6792427f2bd5469b9b",
            "placeholder": "​",
            "style": "IPY_MODEL_0fa6fe9e6fa64137bd0ef912f043865d",
            "value": " 1000/1000 [00:04&lt;00:00, 113.43 examples/s]"
          }
        },
        "63e5ab79aa124ae2b349cbf3af8f2864": {
          "model_module": "@jupyter-widgets/base",
          "model_name": "LayoutModel",
          "model_module_version": "1.2.0",
          "state": {
            "_model_module": "@jupyter-widgets/base",
            "_model_module_version": "1.2.0",
            "_model_name": "LayoutModel",
            "_view_count": null,
            "_view_module": "@jupyter-widgets/base",
            "_view_module_version": "1.2.0",
            "_view_name": "LayoutView",
            "align_content": null,
            "align_items": null,
            "align_self": null,
            "border": null,
            "bottom": null,
            "display": null,
            "flex": null,
            "flex_flow": null,
            "grid_area": null,
            "grid_auto_columns": null,
            "grid_auto_flow": null,
            "grid_auto_rows": null,
            "grid_column": null,
            "grid_gap": null,
            "grid_row": null,
            "grid_template_areas": null,
            "grid_template_columns": null,
            "grid_template_rows": null,
            "height": null,
            "justify_content": null,
            "justify_items": null,
            "left": null,
            "margin": null,
            "max_height": null,
            "max_width": null,
            "min_height": null,
            "min_width": null,
            "object_fit": null,
            "object_position": null,
            "order": null,
            "overflow": null,
            "overflow_x": null,
            "overflow_y": null,
            "padding": null,
            "right": null,
            "top": null,
            "visibility": null,
            "width": null
          }
        },
        "c0d6de94ff4e4a57814867c87992d542": {
          "model_module": "@jupyter-widgets/base",
          "model_name": "LayoutModel",
          "model_module_version": "1.2.0",
          "state": {
            "_model_module": "@jupyter-widgets/base",
            "_model_module_version": "1.2.0",
            "_model_name": "LayoutModel",
            "_view_count": null,
            "_view_module": "@jupyter-widgets/base",
            "_view_module_version": "1.2.0",
            "_view_name": "LayoutView",
            "align_content": null,
            "align_items": null,
            "align_self": null,
            "border": null,
            "bottom": null,
            "display": null,
            "flex": null,
            "flex_flow": null,
            "grid_area": null,
            "grid_auto_columns": null,
            "grid_auto_flow": null,
            "grid_auto_rows": null,
            "grid_column": null,
            "grid_gap": null,
            "grid_row": null,
            "grid_template_areas": null,
            "grid_template_columns": null,
            "grid_template_rows": null,
            "height": null,
            "justify_content": null,
            "justify_items": null,
            "left": null,
            "margin": null,
            "max_height": null,
            "max_width": null,
            "min_height": null,
            "min_width": null,
            "object_fit": null,
            "object_position": null,
            "order": null,
            "overflow": null,
            "overflow_x": null,
            "overflow_y": null,
            "padding": null,
            "right": null,
            "top": null,
            "visibility": null,
            "width": null
          }
        },
        "a76a77b14c8b44c98b14c76aa8e985b0": {
          "model_module": "@jupyter-widgets/controls",
          "model_name": "DescriptionStyleModel",
          "model_module_version": "1.5.0",
          "state": {
            "_model_module": "@jupyter-widgets/controls",
            "_model_module_version": "1.5.0",
            "_model_name": "DescriptionStyleModel",
            "_view_count": null,
            "_view_module": "@jupyter-widgets/base",
            "_view_module_version": "1.2.0",
            "_view_name": "StyleView",
            "description_width": ""
          }
        },
        "f1fb7bd2edbb4af0a40c3d219fa0c623": {
          "model_module": "@jupyter-widgets/base",
          "model_name": "LayoutModel",
          "model_module_version": "1.2.0",
          "state": {
            "_model_module": "@jupyter-widgets/base",
            "_model_module_version": "1.2.0",
            "_model_name": "LayoutModel",
            "_view_count": null,
            "_view_module": "@jupyter-widgets/base",
            "_view_module_version": "1.2.0",
            "_view_name": "LayoutView",
            "align_content": null,
            "align_items": null,
            "align_self": null,
            "border": null,
            "bottom": null,
            "display": null,
            "flex": null,
            "flex_flow": null,
            "grid_area": null,
            "grid_auto_columns": null,
            "grid_auto_flow": null,
            "grid_auto_rows": null,
            "grid_column": null,
            "grid_gap": null,
            "grid_row": null,
            "grid_template_areas": null,
            "grid_template_columns": null,
            "grid_template_rows": null,
            "height": null,
            "justify_content": null,
            "justify_items": null,
            "left": null,
            "margin": null,
            "max_height": null,
            "max_width": null,
            "min_height": null,
            "min_width": null,
            "object_fit": null,
            "object_position": null,
            "order": null,
            "overflow": null,
            "overflow_x": null,
            "overflow_y": null,
            "padding": null,
            "right": null,
            "top": null,
            "visibility": null,
            "width": null
          }
        },
        "ad5adb8222c444bf9310b1f51db2533f": {
          "model_module": "@jupyter-widgets/controls",
          "model_name": "ProgressStyleModel",
          "model_module_version": "1.5.0",
          "state": {
            "_model_module": "@jupyter-widgets/controls",
            "_model_module_version": "1.5.0",
            "_model_name": "ProgressStyleModel",
            "_view_count": null,
            "_view_module": "@jupyter-widgets/base",
            "_view_module_version": "1.2.0",
            "_view_name": "StyleView",
            "bar_color": null,
            "description_width": ""
          }
        },
        "c9a5596b42f34a6792427f2bd5469b9b": {
          "model_module": "@jupyter-widgets/base",
          "model_name": "LayoutModel",
          "model_module_version": "1.2.0",
          "state": {
            "_model_module": "@jupyter-widgets/base",
            "_model_module_version": "1.2.0",
            "_model_name": "LayoutModel",
            "_view_count": null,
            "_view_module": "@jupyter-widgets/base",
            "_view_module_version": "1.2.0",
            "_view_name": "LayoutView",
            "align_content": null,
            "align_items": null,
            "align_self": null,
            "border": null,
            "bottom": null,
            "display": null,
            "flex": null,
            "flex_flow": null,
            "grid_area": null,
            "grid_auto_columns": null,
            "grid_auto_flow": null,
            "grid_auto_rows": null,
            "grid_column": null,
            "grid_gap": null,
            "grid_row": null,
            "grid_template_areas": null,
            "grid_template_columns": null,
            "grid_template_rows": null,
            "height": null,
            "justify_content": null,
            "justify_items": null,
            "left": null,
            "margin": null,
            "max_height": null,
            "max_width": null,
            "min_height": null,
            "min_width": null,
            "object_fit": null,
            "object_position": null,
            "order": null,
            "overflow": null,
            "overflow_x": null,
            "overflow_y": null,
            "padding": null,
            "right": null,
            "top": null,
            "visibility": null,
            "width": null
          }
        },
        "0fa6fe9e6fa64137bd0ef912f043865d": {
          "model_module": "@jupyter-widgets/controls",
          "model_name": "DescriptionStyleModel",
          "model_module_version": "1.5.0",
          "state": {
            "_model_module": "@jupyter-widgets/controls",
            "_model_module_version": "1.5.0",
            "_model_name": "DescriptionStyleModel",
            "_view_count": null,
            "_view_module": "@jupyter-widgets/base",
            "_view_module_version": "1.2.0",
            "_view_name": "StyleView",
            "description_width": ""
          }
        },
        "08e41b7dd8e14201b407cd7fd0d48cd6": {
          "model_module": "@jupyter-widgets/controls",
          "model_name": "HBoxModel",
          "model_module_version": "1.5.0",
          "state": {
            "_dom_classes": [],
            "_model_module": "@jupyter-widgets/controls",
            "_model_module_version": "1.5.0",
            "_model_name": "HBoxModel",
            "_view_count": null,
            "_view_module": "@jupyter-widgets/controls",
            "_view_module_version": "1.5.0",
            "_view_name": "HBoxView",
            "box_style": "",
            "children": [
              "IPY_MODEL_52e47ea7a93a447c8ed895846d5e5a92",
              "IPY_MODEL_af3064ac6ba74e14a1952fe21fe1109a",
              "IPY_MODEL_804569326d3244a6bb838d2d661ce2f1"
            ],
            "layout": "IPY_MODEL_88be9e4809a54100a2132b672734726e"
          }
        },
        "52e47ea7a93a447c8ed895846d5e5a92": {
          "model_module": "@jupyter-widgets/controls",
          "model_name": "HTMLModel",
          "model_module_version": "1.5.0",
          "state": {
            "_dom_classes": [],
            "_model_module": "@jupyter-widgets/controls",
            "_model_module_version": "1.5.0",
            "_model_name": "HTMLModel",
            "_view_count": null,
            "_view_module": "@jupyter-widgets/controls",
            "_view_module_version": "1.5.0",
            "_view_name": "HTMLView",
            "description": "",
            "description_tooltip": null,
            "layout": "IPY_MODEL_7aaa662bb49944598989496cec205b39",
            "placeholder": "​",
            "style": "IPY_MODEL_131d961e23a74f0b90dcc613a1f9c43f",
            "value": "Map: 100%"
          }
        },
        "af3064ac6ba74e14a1952fe21fe1109a": {
          "model_module": "@jupyter-widgets/controls",
          "model_name": "FloatProgressModel",
          "model_module_version": "1.5.0",
          "state": {
            "_dom_classes": [],
            "_model_module": "@jupyter-widgets/controls",
            "_model_module_version": "1.5.0",
            "_model_name": "FloatProgressModel",
            "_view_count": null,
            "_view_module": "@jupyter-widgets/controls",
            "_view_module_version": "1.5.0",
            "_view_name": "ProgressView",
            "bar_style": "success",
            "description": "",
            "description_tooltip": null,
            "layout": "IPY_MODEL_d3a131583bf54420b4faadde1ffee93b",
            "max": 1000,
            "min": 0,
            "orientation": "horizontal",
            "style": "IPY_MODEL_35f40cf0f8eb4a2bb9cdd27da7583c28",
            "value": 1000
          }
        },
        "804569326d3244a6bb838d2d661ce2f1": {
          "model_module": "@jupyter-widgets/controls",
          "model_name": "HTMLModel",
          "model_module_version": "1.5.0",
          "state": {
            "_dom_classes": [],
            "_model_module": "@jupyter-widgets/controls",
            "_model_module_version": "1.5.0",
            "_model_name": "HTMLModel",
            "_view_count": null,
            "_view_module": "@jupyter-widgets/controls",
            "_view_module_version": "1.5.0",
            "_view_name": "HTMLView",
            "description": "",
            "description_tooltip": null,
            "layout": "IPY_MODEL_cabdfcb5338d4ac0be8f34647b89dbb4",
            "placeholder": "​",
            "style": "IPY_MODEL_044cbed999684fb79756e3cb8e84b550",
            "value": " 1000/1000 [00:00&lt;00:00, 1164.90 examples/s]"
          }
        },
        "88be9e4809a54100a2132b672734726e": {
          "model_module": "@jupyter-widgets/base",
          "model_name": "LayoutModel",
          "model_module_version": "1.2.0",
          "state": {
            "_model_module": "@jupyter-widgets/base",
            "_model_module_version": "1.2.0",
            "_model_name": "LayoutModel",
            "_view_count": null,
            "_view_module": "@jupyter-widgets/base",
            "_view_module_version": "1.2.0",
            "_view_name": "LayoutView",
            "align_content": null,
            "align_items": null,
            "align_self": null,
            "border": null,
            "bottom": null,
            "display": null,
            "flex": null,
            "flex_flow": null,
            "grid_area": null,
            "grid_auto_columns": null,
            "grid_auto_flow": null,
            "grid_auto_rows": null,
            "grid_column": null,
            "grid_gap": null,
            "grid_row": null,
            "grid_template_areas": null,
            "grid_template_columns": null,
            "grid_template_rows": null,
            "height": null,
            "justify_content": null,
            "justify_items": null,
            "left": null,
            "margin": null,
            "max_height": null,
            "max_width": null,
            "min_height": null,
            "min_width": null,
            "object_fit": null,
            "object_position": null,
            "order": null,
            "overflow": null,
            "overflow_x": null,
            "overflow_y": null,
            "padding": null,
            "right": null,
            "top": null,
            "visibility": null,
            "width": null
          }
        },
        "7aaa662bb49944598989496cec205b39": {
          "model_module": "@jupyter-widgets/base",
          "model_name": "LayoutModel",
          "model_module_version": "1.2.0",
          "state": {
            "_model_module": "@jupyter-widgets/base",
            "_model_module_version": "1.2.0",
            "_model_name": "LayoutModel",
            "_view_count": null,
            "_view_module": "@jupyter-widgets/base",
            "_view_module_version": "1.2.0",
            "_view_name": "LayoutView",
            "align_content": null,
            "align_items": null,
            "align_self": null,
            "border": null,
            "bottom": null,
            "display": null,
            "flex": null,
            "flex_flow": null,
            "grid_area": null,
            "grid_auto_columns": null,
            "grid_auto_flow": null,
            "grid_auto_rows": null,
            "grid_column": null,
            "grid_gap": null,
            "grid_row": null,
            "grid_template_areas": null,
            "grid_template_columns": null,
            "grid_template_rows": null,
            "height": null,
            "justify_content": null,
            "justify_items": null,
            "left": null,
            "margin": null,
            "max_height": null,
            "max_width": null,
            "min_height": null,
            "min_width": null,
            "object_fit": null,
            "object_position": null,
            "order": null,
            "overflow": null,
            "overflow_x": null,
            "overflow_y": null,
            "padding": null,
            "right": null,
            "top": null,
            "visibility": null,
            "width": null
          }
        },
        "131d961e23a74f0b90dcc613a1f9c43f": {
          "model_module": "@jupyter-widgets/controls",
          "model_name": "DescriptionStyleModel",
          "model_module_version": "1.5.0",
          "state": {
            "_model_module": "@jupyter-widgets/controls",
            "_model_module_version": "1.5.0",
            "_model_name": "DescriptionStyleModel",
            "_view_count": null,
            "_view_module": "@jupyter-widgets/base",
            "_view_module_version": "1.2.0",
            "_view_name": "StyleView",
            "description_width": ""
          }
        },
        "d3a131583bf54420b4faadde1ffee93b": {
          "model_module": "@jupyter-widgets/base",
          "model_name": "LayoutModel",
          "model_module_version": "1.2.0",
          "state": {
            "_model_module": "@jupyter-widgets/base",
            "_model_module_version": "1.2.0",
            "_model_name": "LayoutModel",
            "_view_count": null,
            "_view_module": "@jupyter-widgets/base",
            "_view_module_version": "1.2.0",
            "_view_name": "LayoutView",
            "align_content": null,
            "align_items": null,
            "align_self": null,
            "border": null,
            "bottom": null,
            "display": null,
            "flex": null,
            "flex_flow": null,
            "grid_area": null,
            "grid_auto_columns": null,
            "grid_auto_flow": null,
            "grid_auto_rows": null,
            "grid_column": null,
            "grid_gap": null,
            "grid_row": null,
            "grid_template_areas": null,
            "grid_template_columns": null,
            "grid_template_rows": null,
            "height": null,
            "justify_content": null,
            "justify_items": null,
            "left": null,
            "margin": null,
            "max_height": null,
            "max_width": null,
            "min_height": null,
            "min_width": null,
            "object_fit": null,
            "object_position": null,
            "order": null,
            "overflow": null,
            "overflow_x": null,
            "overflow_y": null,
            "padding": null,
            "right": null,
            "top": null,
            "visibility": null,
            "width": null
          }
        },
        "35f40cf0f8eb4a2bb9cdd27da7583c28": {
          "model_module": "@jupyter-widgets/controls",
          "model_name": "ProgressStyleModel",
          "model_module_version": "1.5.0",
          "state": {
            "_model_module": "@jupyter-widgets/controls",
            "_model_module_version": "1.5.0",
            "_model_name": "ProgressStyleModel",
            "_view_count": null,
            "_view_module": "@jupyter-widgets/base",
            "_view_module_version": "1.2.0",
            "_view_name": "StyleView",
            "bar_color": null,
            "description_width": ""
          }
        },
        "cabdfcb5338d4ac0be8f34647b89dbb4": {
          "model_module": "@jupyter-widgets/base",
          "model_name": "LayoutModel",
          "model_module_version": "1.2.0",
          "state": {
            "_model_module": "@jupyter-widgets/base",
            "_model_module_version": "1.2.0",
            "_model_name": "LayoutModel",
            "_view_count": null,
            "_view_module": "@jupyter-widgets/base",
            "_view_module_version": "1.2.0",
            "_view_name": "LayoutView",
            "align_content": null,
            "align_items": null,
            "align_self": null,
            "border": null,
            "bottom": null,
            "display": null,
            "flex": null,
            "flex_flow": null,
            "grid_area": null,
            "grid_auto_columns": null,
            "grid_auto_flow": null,
            "grid_auto_rows": null,
            "grid_column": null,
            "grid_gap": null,
            "grid_row": null,
            "grid_template_areas": null,
            "grid_template_columns": null,
            "grid_template_rows": null,
            "height": null,
            "justify_content": null,
            "justify_items": null,
            "left": null,
            "margin": null,
            "max_height": null,
            "max_width": null,
            "min_height": null,
            "min_width": null,
            "object_fit": null,
            "object_position": null,
            "order": null,
            "overflow": null,
            "overflow_x": null,
            "overflow_y": null,
            "padding": null,
            "right": null,
            "top": null,
            "visibility": null,
            "width": null
          }
        },
        "044cbed999684fb79756e3cb8e84b550": {
          "model_module": "@jupyter-widgets/controls",
          "model_name": "DescriptionStyleModel",
          "model_module_version": "1.5.0",
          "state": {
            "_model_module": "@jupyter-widgets/controls",
            "_model_module_version": "1.5.0",
            "_model_name": "DescriptionStyleModel",
            "_view_count": null,
            "_view_module": "@jupyter-widgets/base",
            "_view_module_version": "1.2.0",
            "_view_name": "StyleView",
            "description_width": ""
          }
        }
      }
    }
  },
  "nbformat": 4,
  "nbformat_minor": 5
}